{
  "nbformat": 4,
  "nbformat_minor": 0,
  "metadata": {
    "colab": {
      "name": "ColabTTSDatasetCreator.ipynb",
      "provenance": [],
      "collapsed_sections": []
    },
    "kernelspec": {
      "name": "python3",
      "display_name": "Python 3"
    },
    "accelerator": "GPU"
  },
  "cells": [
    {
      "cell_type": "markdown",
      "metadata": {
        "id": "x2aYvX4QuhkH"
      },
      "source": [
        "\n",
        "\n",
        "```\n",
        "# This is formatted as code\n",
        "```\n",
        "\n",
        "1. Set to reconnect.\n"
      ]
    },
    {
      "cell_type": "code",
      "metadata": {
        "id": "guseh4o7aEJV"
      },
      "source": [
        "import IPython\n",
        "from google.colab import output\n",
        "\n",
        "display(IPython.display.Javascript('''\n",
        " function ClickConnect(){\n",
        "   btn = document.querySelector(\"colab-connect-button\")\n",
        "   if (btn != null){\n",
        "     console.log(\"Click colab-connect-button\"); \n",
        "     btn.click() \n",
        "     }\n",
        "   \n",
        "   btn = document.getElementById('ok')\n",
        "   if (btn != null){\n",
        "     console.log(\"Click reconnect\"); \n",
        "     btn.click() \n",
        "     }\n",
        "  }\n",
        "  \n",
        "setInterval(ClickConnect,60000)\n",
        "'''))\n",
        "\n",
        "print(\"Done.\")"
      ],
      "execution_count": null,
      "outputs": []
    },
    {
      "cell_type": "markdown",
      "metadata": {
        "id": "5tonvWG-uxdd"
      },
      "source": [
        "2. Mount gDrive (change to your own Drive directory)"
      ]
    },
    {
      "cell_type": "code",
      "metadata": {
        "id": "rLbzN-o8jhNH"
      },
      "source": [
        "from google.colab import drive\n",
        "drive.mount('/content/drive')"
      ],
      "execution_count": null,
      "outputs": []
    },
    {
      "cell_type": "markdown",
      "metadata": {
        "id": "7SfcZodmu5lf"
      },
      "source": [
        "3. Check your GPU"
      ]
    },
    {
      "cell_type": "code",
      "metadata": {
        "id": "pFfKQqLGjjyu"
      },
      "source": [
        "!nvidia-smi"
      ],
      "execution_count": null,
      "outputs": []
    },
    {
      "cell_type": "markdown",
      "metadata": {
        "id": "ymO2hnwaXqhn"
      },
      "source": [
        "4. Change directory"
      ]
    },
    {
      "cell_type": "code",
      "metadata": {
        "id": "7WKcHls0jmN-"
      },
      "source": [
        "cd /content/drive/MyDrive/TTSDatasetCreator"
      ],
      "execution_count": null,
      "outputs": []
    },
    {
      "cell_type": "markdown",
      "metadata": {
        "id": "-XC3vUnSX_eo"
      },
      "source": [
        "5. Install miniconda"
      ]
    },
    {
      "cell_type": "code",
      "metadata": {
        "id": "JRGKHbuXuCrr"
      },
      "source": [
        "%%bash\n",
        "MINICONDA_INSTALLER_SCRIPT=Miniconda3-4.5.4-Linux-x86_64.sh\n",
        "MINICONDA_PREFIX=/usr/local\n",
        "wget https://repo.continuum.io/miniconda/$MINICONDA_INSTALLER_SCRIPT\n",
        "chmod +x $MINICONDA_INSTALLER_SCRIPT\n",
        "./$MINICONDA_INSTALLER_SCRIPT -b -f -p $MINICONDA_PREFIX"
      ],
      "execution_count": null,
      "outputs": []
    },
    {
      "cell_type": "markdown",
      "metadata": {
        "id": "dMre-K1SYW57"
      },
      "source": [
        "6. Set ENV path for Python"
      ]
    },
    {
      "cell_type": "code",
      "metadata": {
        "id": "qcLZD4shtYQD"
      },
      "source": [
        "%env PYTHONPATH="
      ],
      "execution_count": null,
      "outputs": []
    },
    {
      "cell_type": "markdown",
      "metadata": {
        "id": "COo3TGsiYb2P"
      },
      "source": [
        "7. Install conda with Python 3.6.12 and add Python to syspath\n",
        "\n"
      ]
    },
    {
      "cell_type": "code",
      "metadata": {
        "id": "KusQVOGMuNVi"
      },
      "source": [
        "%%bash\n",
        "conda install --channel defaults conda python=3.6.12 --yes\n",
        "conda update --channel defaults --all --yes"
      ],
      "execution_count": null,
      "outputs": []
    },
    {
      "cell_type": "code",
      "metadata": {
        "id": "7id0YkW7ufwb"
      },
      "source": [
        "import sys\n",
        "sys.path"
      ],
      "execution_count": null,
      "outputs": []
    },
    {
      "cell_type": "code",
      "metadata": {
        "id": "4e2bZxxBvPBc"
      },
      "source": [
        "import sys\n",
        "_ = (sys.path\n",
        "        .append(\"/usr/local/lib/python3.6/site-packages\"))"
      ],
      "execution_count": null,
      "outputs": []
    },
    {
      "cell_type": "markdown",
      "metadata": {
        "id": "c46xfr4XYviX"
      },
      "source": [
        "8. Create conda env with dependencies"
      ]
    },
    {
      "cell_type": "code",
      "metadata": {
        "id": "b79ZN4KhnuTy"
      },
      "source": [
        "%%bash\n",
        "conda env create -f ./win10_conda_env/transcribe.yml -n transcribe"
      ],
      "execution_count": null,
      "outputs": []
    },
    {
      "cell_type": "markdown",
      "metadata": {
        "id": "Up_20PsOZGXc"
      },
      "source": [
        "9. Initialize conda in bash (run this twice just in case)"
      ]
    },
    {
      "cell_type": "code",
      "metadata": {
        "id": "KT_uKP67xUTP"
      },
      "source": [
        "%%bash\n",
        "conda init bash"
      ],
      "execution_count": null,
      "outputs": []
    },
    {
      "cell_type": "markdown",
      "metadata": {
        "id": "UEVoO5YiZOgL"
      },
      "source": [
        "10. Activate transcribe env"
      ]
    },
    {
      "cell_type": "code",
      "metadata": {
        "id": "N5NeFnW3x1kH"
      },
      "source": [
        "%%bash\n",
        "eval \"$(conda shell.bash hook)\" # copy conda command to shell\n",
        "conda activate transcribe\n",
        "python --version"
      ],
      "execution_count": null,
      "outputs": []
    },
    {
      "cell_type": "markdown",
      "metadata": {
        "id": "lNUDRezXZW9j"
      },
      "source": [
        "11. Install additional requirements. (Restart instance once completed)."
      ]
    },
    {
      "cell_type": "code",
      "metadata": {
        "id": "kAg046nRnZwG"
      },
      "source": [
        "pip install -r requirements.txt"
      ],
      "execution_count": null,
      "outputs": []
    },
    {
      "cell_type": "markdown",
      "metadata": {
        "id": "QSlesYD0ZeTC"
      },
      "source": [
        "12. Reactivate transcribe"
      ]
    },
    {
      "cell_type": "code",
      "metadata": {
        "id": "OBaRimDXmp9g"
      },
      "source": [
        "%%bash\n",
        "eval \"$(conda shell.bash hook)\" # copy conda command to shell\n",
        "conda activate transcribe\n",
        "python --version"
      ],
      "execution_count": null,
      "outputs": []
    },
    {
      "cell_type": "markdown",
      "metadata": {
        "id": "nQ0-yF9KZhxw"
      },
      "source": [
        "13. Make sure you're in the correct directory after restarting instance"
      ]
    },
    {
      "cell_type": "code",
      "metadata": {
        "id": "gw_3zM7znKoX"
      },
      "source": [
        "cd /content/drive/MyDrive/TTSDatasetCreator"
      ],
      "execution_count": null,
      "outputs": []
    },
    {
      "cell_type": "markdown",
      "metadata": {
        "id": "RyvNMaXHZnUn"
      },
      "source": [
        "14. Initialize Workspace directories"
      ]
    },
    {
      "cell_type": "code",
      "metadata": {
        "id": "6a50BgkC1ji2"
      },
      "source": [
        "%%bash\n",
        "python init.py"
      ],
      "execution_count": null,
      "outputs": []
    },
    {
      "cell_type": "markdown",
      "metadata": {
        "id": "rwigLLOHZryZ"
      },
      "source": [
        "15. Split audio files into 15m segments. Name should be a directory in ../Workspace/\n",
        "\n"
      ]
    },
    {
      "cell_type": "code",
      "metadata": {
        "id": "hDvThvnZnaMk"
      },
      "source": [
        "%%bash\n",
        "python split.py --name=$NAME"
      ],
      "execution_count": null,
      "outputs": []
    },
    {
      "cell_type": "markdown",
      "metadata": {
        "id": "YfEDNDOqaKw2"
      },
      "source": [
        "16. Split sample audio file into speaker segments (run this after pre-processing audio files from last step in Gecko).\n"
      ]
    },
    {
      "cell_type": "code",
      "metadata": {
        "id": "dV-U2jT9I52o"
      },
      "source": [
        "%%bash\n",
        "python speaker_split.py --output speakers --name $NAME --min 3000 --max 8000"
      ],
      "execution_count": null,
      "outputs": []
    },
    {
      "cell_type": "markdown",
      "metadata": {
        "id": "G4tsB_FWaizl"
      },
      "source": [
        "17. Segment audio markings according to speaker"
      ]
    },
    {
      "cell_type": "code",
      "metadata": {
        "id": "q0zqYknfJfYb"
      },
      "source": [
        "%%bash\n",
        "python segment.py --name $NAME"
      ],
      "execution_count": null,
      "outputs": []
    },
    {
      "cell_type": "markdown",
      "metadata": {
        "id": "H7eE2EedbDnq"
      },
      "source": [
        ""
      ]
    },
    {
      "cell_type": "markdown",
      "metadata": {
        "id": "2ZXBVo-_a8un"
      },
      "source": [
        "18. Transcribe audio files using segmented speaker markings"
      ]
    },
    {
      "cell_type": "code",
      "metadata": {
        "id": "k7naLXzHn5Pf"
      },
      "source": [
        "%%bash\n",
        "python transcribe.py --model ../DeepSpeechModels/deepspeech-0.8.2-models.pbmm --scorer ../DeepSpeechModels/deepspeech-0.8.2-models.scorer --name=$NAME "
      ],
      "execution_count": null,
      "outputs": []
    }
  ]
}